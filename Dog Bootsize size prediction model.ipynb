{
 "nbformat": 4,
 "nbformat_minor": 0,
 "metadata": {
  "colab": {
   "provenance": [],
   "authorship_tag": "ABX9TyOqg59A+wqHvtuZMGHej0JE"
  },
  "kernelspec": {
   "name": "python3",
   "display_name": "Python 3"
  },
  "language_info": {
   "name": "python"
  }
 },
 "cells": [
  {
   "cell_type": "code",
   "execution_count": null,
   "metadata": {
    "colab": {
     "base_uri": "https://localhost:8080/",
     "height": 1000
    },
    "id": "Z1bRyPhUXO3L",
    "executionInfo": {
     "status": "ok",
     "timestamp": 1726382640778,
     "user_tz": -60,
     "elapsed": 3757,
     "user": {
      "displayName": "Korede david",
      "userId": "04917254983458292970"
     }
    },
    "outputId": "a6130ade-ef33-4df4-ee53-9b8d64f05208"
   },
   "source": [
    "import pandas\n",
    "!wget https://raw.githubusercontent.com/MicrosoftDocs/mslearn-introduction-to-machine-learning/main/graphing.py\n",
    "!wget https://raw.githubusercontent.com/MicrosoftDocs/mslearn-introduction-to-machine-learning/main/Data/doggy-boot-harness.csv\n",
    "!pip install statsmodels\n",
    "\n",
    "data = {\n",
    "    'boot_size' : [ 39, 38, 37, 39, 38, 35, 37, 36, 35, 40,\n",
    "                    40, 36, 38, 39, 42, 42, 36, 36, 35, 41,\n",
    "                    42, 38, 37, 35, 40, 36, 35, 39, 41, 37,\n",
    "                    35, 41, 39, 41, 42, 42, 36, 37, 37, 39,\n",
    "                    42, 35, 36, 41, 41, 41, 39, 39, 35, 39\n",
    " ],\n",
    "    'harness_size': [ 58, 58, 52, 58, 57, 52, 55, 53, 49, 54,\n",
    "                59, 56, 53, 58, 57, 58, 56, 51, 50, 59,\n",
    "                59, 59, 55, 50, 55, 52, 53, 54, 61, 56,\n",
    "                55, 60, 57, 56, 61, 58, 53, 57, 57, 55,\n",
    "                60, 51, 52, 56, 55, 57, 58, 57, 51, 59\n",
    "                ]\n",
    "}\n",
    "\n",
    "dataset = pandas.DataFrame(data)\n",
    "\n",
    "\n",
    "dataset"
   ],
   "outputs": []
  },
  {
   "cell_type": "code",
   "source": [
    "import statsmodels.formula.api as smf\n",
    "\n",
    "\n",
    "formula = \"boot_size ~ harness_size\"\n",
    "\n",
    "# Load in the model\n",
    "model = smf.ols(formula = formula, data = dataset)\n",
    "\n",
    "if hasattr(model, 'params'):\n",
    "  print(\"model selected but it does not have parameters set. we need to tain it\")\n",
    "# Fit the model\n",
    "fitted_model = model.fit()\n",
    "print(\"the following model parameters have been found:\\n\" +\n",
    "        f\"Line slope: {fitted_model.params[1]}\\n\"+\n",
    "        f\"Line Intercept: {fitted_model.params[0]}\")\n",
    "\n"
   ],
   "metadata": {
    "colab": {
     "base_uri": "https://localhost:8080/"
    },
    "id": "JEwQJgMMXYCv",
    "executionInfo": {
     "status": "ok",
     "timestamp": 1726382687492,
     "user_tz": -60,
     "elapsed": 1521,
     "user": {
      "displayName": "Korede david",
      "userId": "04917254983458292970"
     }
    },
    "outputId": "1b72e74d-f9c8-4df1-b0e7-5fa05ded451d"
   },
   "execution_count": null,
   "outputs": []
  },
  {
   "cell_type": "code",
   "source": [
    "import matplotlib.pyplot as plt\n",
    "\n",
    "plt.scatter(dataset['harness_size'], dataset['boot_size'], color='black')\n",
    "plt.plot(dataset[\"harness_size\"], fitted_model.params[1] * dataset['harness_size'] + fitted_model.params[0], 'r', label='fitted line')\n",
    "plt.xlabel(\"harness_size\")\n",
    "plt.ylabel(\"boot_size\")\n",
    "plt.legend()\n",
    "plt.show()"
   ],
   "metadata": {
    "colab": {
     "base_uri": "https://localhost:8080/",
     "height": 504
    },
    "id": "mT6Eh_OibZWf",
    "executionInfo": {
     "status": "ok",
     "timestamp": 1726383134818,
     "user_tz": -60,
     "elapsed": 463,
     "user": {
      "displayName": "Korede david",
      "userId": "04917254983458292970"
     }
    },
    "outputId": "f4121c76-df72-4d3d-e128-7195c0d9e6fd"
   },
   "execution_count": null,
   "outputs": []
  },
  {
   "cell_type": "code",
   "source": [
    "harness_size = { 'harness_size' : [52.5] }\n",
    "\n",
    "\n",
    "approximate_boot_size = fitted_model.predict(dataset[\"harness_size\"])\n",
    "print(\"Estimated approximate_boot_size:\")\n",
    "dataset['predicted size'] = approximate_boot_size\n",
    "dataset.head()"
   ],
   "metadata": {
    "colab": {
     "base_uri": "https://localhost:8080/",
     "height": 1000
    },
    "id": "puthrhykd67N",
    "executionInfo": {
     "status": "ok",
     "timestamp": 1726383881603,
     "user_tz": -60,
     "elapsed": 447,
     "user": {
      "displayName": "Korede david",
      "userId": "04917254983458292970"
     }
    },
    "outputId": "7971e7a3-9509-4466-a0bf-fd453c4f129f"
   },
   "execution_count": null,
   "outputs": []
  }
 ]
}
